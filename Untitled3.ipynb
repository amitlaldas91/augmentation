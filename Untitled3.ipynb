{
 "cells": [
  {
   "cell_type": "code",
   "execution_count": 4,
   "id": "ac2cda24-3ce4-4218-a862-1d26ed2bdc8f",
   "metadata": {},
   "outputs": [],
   "source": [
    "import numpy as np\n",
    "import os\n",
    "from skimage import io\n",
    "from tensorflow.keras.preprocessing.image import ImageDataGenerator\n",
    "from PIL import Image\n",
    "\n",
    "# Directory containing your images\n",
    "image_directory = 'image/'\n",
    "SIZE = 128  # Resize dimensions\n",
    "dataset = []\n",
    "\n",
    "# Read all images in the directory\n",
    "my_images = os.listdir(image_directory)\n",
    "\n",
    "# Loop through and process each image\n",
    "for image_name in my_images:\n",
    "    # Only process '.jpg' files\n",
    "    #if image_name.lower().endswith('.jpg'):  # better to use endswith for flexibility\n",
    "        # Read the image\n",
    "        image_path = os.path.join(image_directory, image_name)\n",
    "        image = io.imread(image_path)\n",
    "        \n",
    "        # Resize the image\n",
    "        image = Image.fromarray(image)  # Convert to PIL Image\n",
    "        image = image.resize((SIZE, SIZE))  # Resize to fixed SIZE x SIZE\n",
    "        dataset.append(np.array(image))  # Convert to numpy array and append\n",
    "\n",
    "# Convert list to a numpy array (dataset)\n",
    "x = np.array(dataset)\n",
    "\n",
    "# Initialize the ImageDataGenerator with augmentation parameters\n",
    "datagen = ImageDataGenerator(\n",
    "    rotation_range=40,\n",
    "    width_shift_range=0.2,\n",
    "    height_shift_range=0.2,\n",
    "    shear_range=0.2,\n",
    "    zoom_range=0.2,\n",
    "    horizontal_flip=True,\n",
    "    fill_mode='nearest'\n",
    ")\n",
    "\n",
    "# Now, generate and save 10 augmented images\n",
    "i = 0\n",
    "for batch in datagen.flow(x, batch_size=16, save_to_dir='augmented', save_prefix='aug', save_format='png'):\n",
    "    i += 1\n",
    "    if i >= 10:  # Save 10 augmented images\n",
    "        break\n"
   ]
  },
  {
   "cell_type": "code",
   "execution_count": null,
   "id": "9f111b29-8d99-456c-86ef-14e87beb073d",
   "metadata": {},
   "outputs": [],
   "source": []
  }
 ],
 "metadata": {
  "kernelspec": {
   "display_name": "Python 3 (ipykernel)",
   "language": "python",
   "name": "python3"
  },
  "language_info": {
   "codemirror_mode": {
    "name": "ipython",
    "version": 3
   },
   "file_extension": ".py",
   "mimetype": "text/x-python",
   "name": "python",
   "nbconvert_exporter": "python",
   "pygments_lexer": "ipython3",
   "version": "3.12.2"
  }
 },
 "nbformat": 4,
 "nbformat_minor": 5
}
